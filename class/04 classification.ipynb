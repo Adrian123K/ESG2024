{
  "cells": [
    {
      "cell_type": "code",
      "execution_count": null,
      "metadata": {
        "id": "ZZYOYOhNmqxs"
      },
      "outputs": [],
      "source": [
        "import pandas as pd\n",
        "import numpy as np\n",
        "import seaborn as sns\n",
        "import matplotlib.pyplot as plt\n",
        "\n",
        "plt.rcParams['font.family'] = 'NanumGothic'"
      ]
    },
    {
      "cell_type": "code",
      "execution_count": null,
      "metadata": {
        "id": "FNhy0MsEmqxw",
        "outputId": "e912ca02-6408-4efe-ea69-cd2f09a7b8a3"
      },
      "outputs": [
        {
          "data": {
            "text/html": [
              "<div>\n",
              "<style scoped>\n",
              "    .dataframe tbody tr th:only-of-type {\n",
              "        vertical-align: middle;\n",
              "    }\n",
              "\n",
              "    .dataframe tbody tr th {\n",
              "        vertical-align: top;\n",
              "    }\n",
              "\n",
              "    .dataframe thead th {\n",
              "        text-align: right;\n",
              "    }\n",
              "</style>\n",
              "<table border=\"1\" class=\"dataframe\">\n",
              "  <thead>\n",
              "    <tr style=\"text-align: right;\">\n",
              "      <th></th>\n",
              "      <th>사고여부</th>\n",
              "      <th>연도</th>\n",
              "      <th>월</th>\n",
              "      <th>건축</th>\n",
              "      <th>토목</th>\n",
              "      <th>강원</th>\n",
              "      <th>경기</th>\n",
              "      <th>경남</th>\n",
              "      <th>경북</th>\n",
              "      <th>광주</th>\n",
              "      <th>...</th>\n",
              "      <th>log_경영평가액</th>\n",
              "      <th>log_기술능력평가액</th>\n",
              "      <th>log_신인도평가액</th>\n",
              "      <th>log_시공능력평가액_토목</th>\n",
              "      <th>log_시공능력평가액_건축</th>\n",
              "      <th>log_건설공사실적_토건</th>\n",
              "      <th>log_건설공사실적_토목</th>\n",
              "      <th>log_건설공사실적_건축</th>\n",
              "      <th>log_보유기술자수</th>\n",
              "      <th>log_cost</th>\n",
              "    </tr>\n",
              "  </thead>\n",
              "  <tbody>\n",
              "    <tr>\n",
              "      <th>0</th>\n",
              "      <td>1</td>\n",
              "      <td>2020</td>\n",
              "      <td>3</td>\n",
              "      <td>1</td>\n",
              "      <td>0</td>\n",
              "      <td>0</td>\n",
              "      <td>0</td>\n",
              "      <td>0</td>\n",
              "      <td>0</td>\n",
              "      <td>0</td>\n",
              "      <td>...</td>\n",
              "      <td>0.000000</td>\n",
              "      <td>9.011646</td>\n",
              "      <td>7.252054</td>\n",
              "      <td>9.856291</td>\n",
              "      <td>10.740475</td>\n",
              "      <td>10.538237</td>\n",
              "      <td>8.168486</td>\n",
              "      <td>10.440098</td>\n",
              "      <td>2.944439</td>\n",
              "      <td>5.017280</td>\n",
              "    </tr>\n",
              "    <tr>\n",
              "      <th>1</th>\n",
              "      <td>1</td>\n",
              "      <td>2020</td>\n",
              "      <td>2</td>\n",
              "      <td>0</td>\n",
              "      <td>1</td>\n",
              "      <td>0</td>\n",
              "      <td>0</td>\n",
              "      <td>0</td>\n",
              "      <td>1</td>\n",
              "      <td>0</td>\n",
              "      <td>...</td>\n",
              "      <td>9.388068</td>\n",
              "      <td>8.669571</td>\n",
              "      <td>5.424950</td>\n",
              "      <td>9.832314</td>\n",
              "      <td>9.534595</td>\n",
              "      <td>9.182249</td>\n",
              "      <td>8.860499</td>\n",
              "      <td>7.892078</td>\n",
              "      <td>2.833213</td>\n",
              "      <td>5.017280</td>\n",
              "    </tr>\n",
              "    <tr>\n",
              "      <th>2</th>\n",
              "      <td>1</td>\n",
              "      <td>2020</td>\n",
              "      <td>2</td>\n",
              "      <td>0</td>\n",
              "      <td>1</td>\n",
              "      <td>0</td>\n",
              "      <td>0</td>\n",
              "      <td>0</td>\n",
              "      <td>0</td>\n",
              "      <td>0</td>\n",
              "      <td>...</td>\n",
              "      <td>10.152922</td>\n",
              "      <td>10.247361</td>\n",
              "      <td>8.713911</td>\n",
              "      <td>11.447256</td>\n",
              "      <td>11.089973</td>\n",
              "      <td>10.821437</td>\n",
              "      <td>10.697701</td>\n",
              "      <td>8.670772</td>\n",
              "      <td>4.317488</td>\n",
              "      <td>5.017280</td>\n",
              "    </tr>\n",
              "    <tr>\n",
              "      <th>3</th>\n",
              "      <td>1</td>\n",
              "      <td>2020</td>\n",
              "      <td>4</td>\n",
              "      <td>0</td>\n",
              "      <td>1</td>\n",
              "      <td>0</td>\n",
              "      <td>0</td>\n",
              "      <td>0</td>\n",
              "      <td>0</td>\n",
              "      <td>0</td>\n",
              "      <td>...</td>\n",
              "      <td>9.245225</td>\n",
              "      <td>8.812546</td>\n",
              "      <td>6.383507</td>\n",
              "      <td>9.950991</td>\n",
              "      <td>9.900583</td>\n",
              "      <td>9.315511</td>\n",
              "      <td>8.178919</td>\n",
              "      <td>8.928640</td>\n",
              "      <td>2.944439</td>\n",
              "      <td>3.258097</td>\n",
              "    </tr>\n",
              "    <tr>\n",
              "      <th>4</th>\n",
              "      <td>1</td>\n",
              "      <td>2020</td>\n",
              "      <td>2</td>\n",
              "      <td>0</td>\n",
              "      <td>1</td>\n",
              "      <td>0</td>\n",
              "      <td>0</td>\n",
              "      <td>1</td>\n",
              "      <td>0</td>\n",
              "      <td>0</td>\n",
              "      <td>...</td>\n",
              "      <td>8.587092</td>\n",
              "      <td>9.202913</td>\n",
              "      <td>7.393878</td>\n",
              "      <td>10.089054</td>\n",
              "      <td>9.928765</td>\n",
              "      <td>9.411974</td>\n",
              "      <td>9.039552</td>\n",
              "      <td>8.244071</td>\n",
              "      <td>3.433987</td>\n",
              "      <td>5.525453</td>\n",
              "    </tr>\n",
              "  </tbody>\n",
              "</table>\n",
              "<p>5 rows × 36 columns</p>\n",
              "</div>"
            ],
            "text/plain": [
              "   사고여부    연도  월  건축  토목  강원  경기  경남  경북  광주  ...  log_경영평가액   log_기술능력평가액    \n",
              "0     1  2020  3   1   0   0   0   0   0   0  ...    0.000000      9.011646  \\\n",
              "1     1  2020  2   0   1   0   0   0   1   0  ...    9.388068      8.669571   \n",
              "2     1  2020  2   0   1   0   0   0   0   0  ...   10.152922     10.247361   \n",
              "3     1  2020  4   0   1   0   0   0   0   0  ...    9.245225      8.812546   \n",
              "4     1  2020  2   0   1   0   0   1   0   0  ...    8.587092      9.202913   \n",
              "\n",
              "   log_신인도평가액   log_시공능력평가액_토목  log_시공능력평가액_건축  log_건설공사실적_토건    \n",
              "0     7.252054        9.856291       10.740475       10.538237  \\\n",
              "1     5.424950        9.832314        9.534595        9.182249   \n",
              "2     8.713911       11.447256       11.089973       10.821437   \n",
              "3     6.383507        9.950991        9.900583        9.315511   \n",
              "4     7.393878       10.089054        9.928765        9.411974   \n",
              "\n",
              "   log_건설공사실적_토목   log_건설공사실적_건축   log_보유기술자수   log_cost  \n",
              "0        8.168486       10.440098     2.944439  5.017280  \n",
              "1        8.860499        7.892078     2.833213  5.017280  \n",
              "2       10.697701        8.670772     4.317488  5.017280  \n",
              "3        8.178919        8.928640     2.944439  3.258097  \n",
              "4        9.039552        8.244071     3.433987  5.525453  \n",
              "\n",
              "[5 rows x 36 columns]"
            ]
          },
          "execution_count": 3,
          "metadata": {},
          "output_type": "execute_result"
        }
      ],
      "source": [
        "df = pd.read_csv('log_prepro.csv', index_col=0)\n",
        "df.head()"
      ]
    },
    {
      "cell_type": "code",
      "execution_count": null,
      "metadata": {
        "id": "0AcPn1Xjmqxx"
      },
      "outputs": [],
      "source": [
        "X = df.drop('사고여부', axis=1)\n",
        "y = df['사고여부']"
      ]
    },
    {
      "cell_type": "code",
      "execution_count": null,
      "metadata": {
        "id": "cVqM_EW4mqxy"
      },
      "outputs": [],
      "source": [
        "from sklearn.model_selection import train_test_split as tts\n",
        "X_train, X_test, y_train, y_test = tts(X, y, test_size=0.2, random_state=627)"
      ]
    },
    {
      "cell_type": "markdown",
      "metadata": {
        "id": "jfNNZj53mqxy"
      },
      "source": [
        "### Basic model\n",
        "    - k-NN\n",
        "    - Decision Tree\n",
        "    - Logistic Regression"
      ]
    },
    {
      "cell_type": "markdown",
      "metadata": {
        "id": "WBc8or5tmqxz"
      },
      "source": [
        "#### k-NN\n",
        "    - k : 거리 측정을 할 개수\n",
        "    - weight\n",
        "        + uniform : 모든 이웃(neighbor)이 의사결정 과정에 동동한 가중치를 갖음\n",
        "        + distance : 거리 기준으로 이웃에 가중치를 부여(가까운 이웃에 더 많은 영향)\n",
        "    - metric\n",
        "        + euclidean : 유클리드 거리를 활용\n",
        "        + manhattan, minkowski 거리 방식\n",
        "<h2 align='center'>Manhattan Distance</h2>  \n",
        "\n",
        "<p align='center'><img src='https://upload.wikimedia.org/wikipedia/commons/thumb/0/08/Manhattan_distance.svg/1920px-Manhattan_distance.svg.png', width=640></p>\n",
        "\n",
        "<h2 align='center'>Minkowski Distance</h2>  \n",
        "  \n",
        "![minkowski distance](https://upload.wikimedia.org/wikipedia/commons/thumb/0/00/2D_unit_balls.svg/2880px-2D_unit_balls.svg.png)  "
      ]
    },
    {
      "cell_type": "code",
      "execution_count": null,
      "metadata": {
        "id": "CLPMMgLemqxz"
      },
      "outputs": [],
      "source": [
        "from sklearn.neighbors import KNeighborsClassifier\n",
        "knn = KNeighborsClassifier(n_neighbors=5)"
      ]
    },
    {
      "cell_type": "markdown",
      "metadata": {
        "id": "7V_Y8G0fmqx0"
      },
      "source": [
        "#### Decistion Tree\n",
        "    - criterion : 노드 분할의 품질을 측정하는 기준\n",
        "        + gini : 임의로 선택한 요소를 잘못 분류할 확률을 측정\n",
        "        + entropy : 데이터의 불순도 또는 무질서 수준을 측정\n",
        "    - max_depth : 결정 트리의 최대 깊이(레벨 수)를 결정\n",
        "        + 깊게 설정할 경우: 복잡한 패턴을 파악할 수 있으나 과적합 발생할 가능성이 높음\n",
        "        + 복잡성을 제한하여 과적합을 방지할 수 있음\n",
        "    - min_sample_split : 내부 노드를 분할할 때 사용하는 최소 샘플 수 설정\n",
        "        + 값이 작을 수록 세분화된 분할이 포함된 더 복잡한 트리가 생성\n",
        "        + 값을 키울 수록 일반화되고 과적합을 방지\n",
        "\n",
        "<h3 align='center'>Decision Tree Example - Titanic</h3>\n",
        "<p align='center'><img src='https://upload.wikimedia.org/wikipedia/commons/e/eb/Decision_Tree.jpg', width=640></p>"
      ]
    },
    {
      "cell_type": "code",
      "execution_count": null,
      "metadata": {
        "id": "GVR64jqKmqx0"
      },
      "outputs": [],
      "source": [
        "from sklearn.tree import DecisionTreeClassifier\n",
        "tree = DecisionTreeClassifier()"
      ]
    },
    {
      "cell_type": "markdown",
      "metadata": {
        "id": "u6HxoUarmqx0"
      },
      "source": [
        "#### Logistic Regression\n",
        "    - penalty : 모델에 적용할 규제(정규화) 유형 지정\n",
        "        + L1: 계수 값을 0으로 축소하여 최소 특성(희소 특성) 생성 촉진\n",
        "        + L2: 제곱 페널티(데이터 반응 민감도 감소)\n",
        "    - C : 정규화(규제) 강도 조정\n",
        "        + 값이 작을수록 강도가 높아져 모델을 단순화\n",
        "        + 값이 클수록 정규화 강도가 낮아져 훈련 데이터에 더 가깝게 적용\n",
        "    - solver : 모델을 최적화하는데 사용하는 알고리즘 지정\n",
        "        + liblinear : 데이터셋의 크기가 작을 경우\n",
        "        + lbfgs, sag, saga : 데이터셋의 크기가 클 경우\n",
        "            * L-BFGS(Broyden-Fletcher-Goldfarb-Shanno): 회귀 모델의 최적 계수를 찾기 위한 역 헤시안행렬을 근사. 중소규모의 데이터셋에 적합\n",
        "            * SAG(Stochastic Average Gradient) : 훈련 데이터의 각 샘플에 대한 손실 함수의 기울기를 계산, 평균 기울기 기반 계수 업데이트\n",
        "            * SAGA( ~ Adaptive) : SAG의 향상형 버전. 대규모 데이터셋에 유용\n",
        "\n",
        "<h2 align='center'>Logistic Regression</h2>\n",
        "\n",
        "<p align='center'><img src='https://upload.wikimedia.org/wikipedia/commons/thumb/8/88/Logistic-curve.svg/2560px-Logistic-curve.svg.png', width=640></p>\n",
        "    "
      ]
    },
    {
      "cell_type": "code",
      "execution_count": null,
      "metadata": {
        "id": "s2BDuQjGmqx1"
      },
      "outputs": [],
      "source": [
        "from sklearn.linear_model import LogisticRegression\n",
        "logreg = LogisticRegression()"
      ]
    },
    {
      "cell_type": "markdown",
      "metadata": {
        "id": "ilGmIvtnmqx1"
      },
      "source": [
        "#### Naive-Bayes\n",
        "    - 베이즈 정리 기반 레이블에 대한 확률을 계산하여 반환\n",
        "    - 조건부 확률을 계산하고 이를 바탕으로 예측\n",
        "    - Gaussian NB : 정규분포(Gaussian Distribution)를 따른다고 가정하여 연산\n",
        "    - Multinomial NB : 텍스트 분류에 사용되는 개별 기능에 적합\n",
        "    - Bernoulli NB : 바이너리(이진)용 알고리즘"
      ]
    },
    {
      "cell_type": "code",
      "execution_count": null,
      "metadata": {
        "id": "LfJ9uFG2mqx1"
      },
      "outputs": [],
      "source": [
        "from sklearn.naive_bayes import GaussianNB\n",
        "nb_cls = GaussianNB()"
      ]
    },
    {
      "cell_type": "markdown",
      "metadata": {
        "id": "P2s5O4JWmqx1"
      },
      "source": [
        "### Support Vector Machine\n",
        "    - C : 분류에 대한 페널티를 제어\n",
        "        + 값이 작을수록 마진(margin)이 커지지만 오차 허용 범위가 커짐\n",
        "        + 값이 클수록 마진 범위가 좁아져 오차 허용 범위가 좁아짐\n",
        "    - kernel : 알고리즘에 사용할 함수 유형을 결정. 선형 혹은 비선형 방식 선택\n",
        "        + linear : 선형 모델\n",
        "        + poly : 다항 함수 모델\n",
        "        + rbf : 방사형 모델\n",
        "        + sigmoid / 사용자 지정 커널\n",
        "    - gamma : 결정 경계의 유연성을 제어\n",
        "        + 모델의 알고리즘이 rbf, poly, sigmoid일 때 사용\n",
        "        + 값이 작을수록 영향 반경이 커져 경계가 매끄럽고 마진이 넓어짐\n",
        "        + 값이 커질수록 유연성이 높아지고 복잡한 패턴을 캡처할 수 있으나 과적합이 되기 쉬움\n",
        "            * 값이 커지면 일반화가 어렵고 복잡성이 증가"
      ]
    },
    {
      "cell_type": "code",
      "execution_count": null,
      "metadata": {
        "id": "cJyf1eiWmqx1"
      },
      "outputs": [],
      "source": [
        "from sklearn.svm import SVC\n",
        "svm_cls = SVC()"
      ]
    },
    {
      "cell_type": "markdown",
      "metadata": {
        "id": "zjlSnUfFmqx1"
      },
      "source": [
        "### CV(Cross-Validation)을 자동으로 처리하는 모델의 파라미터\n",
        "    - cv: fold의 개수나 유효성 검사 전략을 입력\n",
        "        + 정수값 입력: fold의 갯수를 설정\n",
        "        + 검사 전략 입력: KFold()와 같은 전략 입력\n",
        "    - scoring: 성능 평가를 확인할 점수 측정 방법(metric) 지정\n",
        "        + 분류 모델의 경우 - accuracy, recall, precision, f1_score, f1_macro, roc_auc\n",
        "    - n_jobs: 병렬 작업 수 할당\n",
        "        + -1 : 병렬 계산을 위한 모든 프로세서에 할당\n",
        "        + 1 : 단일 스레드 실행\n",
        "    - verbose: CV 진행중인 프로세스 출력"
      ]
    },
    {
      "cell_type": "code",
      "execution_count": null,
      "metadata": {
        "id": "w3QyhN3Pmqx2"
      },
      "outputs": [],
      "source": [
        "from sklearn.linear_model import LogisticRegressionCV\n",
        "logreg_cv = LogisticRegressionCV(cv=10)\n",
        "\n",
        "from sklearn.ensemble import RandomForestClassifierCV\n",
        "rf_cv = RandomForestClassifierCV()"
      ]
    },
    {
      "cell_type": "markdown",
      "metadata": {
        "id": "tzI4a6hQmqx2"
      },
      "source": [
        "#### CV가 없는 모델의 경우 처리방법"
      ]
    },
    {
      "cell_type": "code",
      "execution_count": null,
      "metadata": {
        "id": "fT8Ywjrymqx2",
        "outputId": "714c4c39-691b-4d7c-dd09-e09981bf66f1"
      },
      "outputs": [
        {
          "name": "stdout",
          "output_type": "stream",
          "text": [
            "Fold: 1 F1 Score: 0.6068814751449483\n",
            "Fold: 2 F1 Score: 0.5444823663253697\n",
            "Fold: 3 F1 Score: 0.5510204081632654\n",
            "Fold: 4 F1 Score: 0.541439205955335\n",
            "Fold: 5 F1 Score: 0.5997712978845054\n",
            "Fold: 6 F1 Score: 0.5429435399196427\n",
            "Fold: 7 F1 Score: 0.5104541448119411\n",
            "Fold: 8 F1 Score: 0.5754066721808657\n",
            "Fold: 9 F1 Score: 0.5816608146574768\n",
            "Fold: 10 F1 Score: 0.5527272727272727\n",
            "Mean accuracy: 0.561\n"
          ]
        }
      ],
      "source": [
        "from sklearn.model_selection import cross_val_score\n",
        "scores = cross_val_score(knn, X_train, y_train, cv=10, scoring='f1_macro')\n",
        "\n",
        "for fold, fs in enumerate(scores):\n",
        "    print(f\"Fold: {fold+1} F1 Score: {fs}\")\n",
        "\n",
        "mean_f1 = scores.mean()\n",
        "print(f\"Mean accuracy: {mean_f1:.3f}\")"
      ]
    },
    {
      "cell_type": "markdown",
      "metadata": {
        "id": "1YGsS8qCmqx2"
      },
      "source": [
        "### 특성 중요도 파악\n",
        "    - 모델의 훈련 이후 어떤 특성을 통해 패턴을 파악할 수 있었는지 각 특성에 대한 중요도를 파악할 수 있음\n",
        "    - 특성 중요도를 확인할 수 있는 모델은 정해져있음\n",
        "        + RandomForest\n",
        "        + GradientBoost\n",
        "        + ExtraTrees\n",
        "        + XGBoost, LightGBM"
      ]
    },
    {
      "cell_type": "code",
      "execution_count": null,
      "metadata": {
        "id": "8Jv8rsqVmqx2"
      },
      "outputs": [],
      "source": []
    },
    {
      "cell_type": "code",
      "execution_count": null,
      "metadata": {
        "id": "mdOLR_aBmqx2"
      },
      "outputs": [],
      "source": []
    },
    {
      "cell_type": "code",
      "execution_count": null,
      "metadata": {
        "id": "66C6Iovbmqx2"
      },
      "outputs": [],
      "source": []
    },
    {
      "cell_type": "code",
      "execution_count": null,
      "metadata": {
        "id": "p_kfR63smqx2"
      },
      "outputs": [],
      "source": []
    },
    {
      "cell_type": "code",
      "execution_count": null,
      "metadata": {
        "id": "wtKG6GzNmqx2"
      },
      "outputs": [],
      "source": []
    }
  ],
  "metadata": {
    "kernelspec": {
      "display_name": "Python 3.10.11 ('gpt')",
      "language": "python",
      "name": "python3"
    },
    "language_info": {
      "codemirror_mode": {
        "name": "ipython",
        "version": 3
      },
      "file_extension": ".py",
      "mimetype": "text/x-python",
      "name": "python",
      "nbconvert_exporter": "python",
      "pygments_lexer": "ipython3",
      "version": "3.10.11"
    },
    "orig_nbformat": 4,
    "vscode": {
      "interpreter": {
        "hash": "4634ec3748d389bba16dd7ee54a572ae582da6f5b220730d5e6e919a437ed779"
      }
    },
    "colab": {
      "provenance": []
    }
  },
  "nbformat": 4,
  "nbformat_minor": 0
}