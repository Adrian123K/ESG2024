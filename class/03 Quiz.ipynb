{
 "cells": [
  {
   "cell_type": "code",
   "execution_count": 1,
   "metadata": {},
   "outputs": [
    {
     "name": "stdout",
     "output_type": "stream",
     "text": [
      "1부터 100 사이의 숫자를 맞춰보세요!\n",
      "너무 낮습니다. 더 높은 숫자를 입력해보세요.\n",
      "너무 낮습니다. 더 높은 숫자를 입력해보세요.\n",
      "너무 높습니다. 더 낮은 숫자를 입력해보세요.\n",
      "너무 높습니다. 더 낮은 숫자를 입력해보세요.\n",
      "너무 높습니다. 더 낮은 숫자를 입력해보세요.\n",
      "너무 낮습니다. 더 높은 숫자를 입력해보세요.\n",
      "너무 높습니다. 더 낮은 숫자를 입력해보세요.\n",
      "너무 높습니다. 더 낮은 숫자를 입력해보세요.\n",
      "축하합니다! 9번 만에 숫자 73을(를) 맞추셨습니다!\n"
     ]
    }
   ],
   "source": [
    "import random\n",
    "\n",
    "def guess_number():\n",
    "    target = random.randint(1, 100)\n",
    "    attempts = 0\n",
    "\n",
    "    print(\"1부터 100 사이의 숫자를 맞춰보세요!\")\n",
    "\n",
    "    while True:\n",
    "        guess = int(input(\"추측한 숫자를 입력하세요: \"))\n",
    "        attempts += 1\n",
    "\n",
    "        if guess < target:\n",
    "            print(\"너무 낮습니다. 더 높은 숫자를 입력해보세요.\")\n",
    "        elif guess > target:\n",
    "            print(\"너무 높습니다. 더 낮은 숫자를 입력해보세요.\")\n",
    "        else:\n",
    "            print(f\"축하합니다! {attempts}번 만에 숫자 {target}을(를) 맞추셨습니다!\")\n",
    "            break\n",
    "\n",
    "guess_number()"
   ]
  },
  {
   "cell_type": "code",
   "execution_count": null,
   "metadata": {},
   "outputs": [],
   "source": []
  },
  {
   "cell_type": "code",
   "execution_count": 2,
   "metadata": {},
   "outputs": [
    {
     "name": "stdout",
     "output_type": "stream",
     "text": [
      "UP\n",
      "시도횟수: 1\n",
      "UP\n",
      "시도횟수: 2\n",
      "UP\n",
      "시도횟수: 3\n",
      "UP\n",
      "시도횟수: 4\n",
      "UP\n",
      "시도횟수: 5\n",
      "Down\n",
      "시도횟수: 6\n",
      "UP\n",
      "시도횟수: 7\n",
      "Down\n",
      "시도횟수: 8\n",
      "정답\n",
      "시도횟수: 9\n"
     ]
    }
   ],
   "source": [
    "import numpy as np\n",
    "num = np.random.randint(1, 100)\n",
    "i = 1\n",
    "value = input(\"숫자를 입력하세요: \")\n",
    "while True:\n",
    "  if int(value) < int(num):\n",
    "    print(\"UP\")\n",
    "    print(f\"시도횟수: {i}\")\n",
    "    i += 1\n",
    "    value = input(\"숫자를 입력하세요: \")\n",
    "  if int(value) > int(num):\n",
    "    print(\"Down\")\n",
    "    print(f\"시도횟수: {i}\")\n",
    "    i += 1\n",
    "    value = input(\"숫자를 입력하세요: \")\n",
    "  if int(value) == int(num):\n",
    "    print(\"정답\")\n",
    "    print(f\"시도횟수: {i}\")\n",
    "    break"
   ]
  },
  {
   "cell_type": "code",
   "execution_count": 3,
   "metadata": {},
   "outputs": [
    {
     "name": "stdout",
     "output_type": "stream",
     "text": [
      "down\n",
      "down\n",
      "정답입니다! (시도 횟수: 3회)\n"
     ]
    }
   ],
   "source": [
    "import numpy as np\n",
    "answer = np.random.randint(1, 101)\n",
    "count = 0\n",
    "\n",
    "while True:\n",
    "  count += 1\n",
    "  num = int(input(\"숫자를 입력하세요 > \"))\n",
    "  if (num > answer):\n",
    "    print(\"down\")\n",
    "  elif (num < answer):\n",
    "    print(\"up\")\n",
    "  else:\n",
    "    print(f\"정답입니다! (시도 횟수: {count}회)\")\n",
    "    break"
   ]
  },
  {
   "cell_type": "code",
   "execution_count": 5,
   "metadata": {},
   "outputs": [
    {
     "name": "stdout",
     "output_type": "stream",
     "text": [
      "다운!\n",
      "다운!\n",
      "업!\n",
      "업!\n",
      "업!\n",
      "축하합니다! 정답은 15입니다. 6번 만에 맞추셨습니다.\n"
     ]
    }
   ],
   "source": [
    "import random\n",
    "correct_number = random.randint(1, 100)\n",
    "attempts=0\n",
    "while True:\n",
    "    # try:\n",
    "    user_guess = int(input(\"숫자를 입력하세요: \"))\n",
    "    attempts += 1\n",
    "    if user_guess < 1 or user_guess > 100:\n",
    "        print(\"1부터 100 사이의 숫자를 입력하세요.\")\n",
    "        continue\n",
    "    if user_guess < correct_number:\n",
    "        print(\"업!\")\n",
    "    elif user_guess > correct_number:\n",
    "        print(\"다운!\")\n",
    "    else:\n",
    "        print(f\"축하합니다! 정답은 {correct_number}입니다. {attempts}번 만에 맞추셨습니다.\")\n",
    "        break"
   ]
  },
  {
   "cell_type": "code",
   "execution_count": 6,
   "metadata": {},
   "outputs": [
    {
     "name": "stdout",
     "output_type": "stream",
     "text": [
      "숫자를 맞혀보세요 (1~100)\n",
      "DOWN\n",
      "UP\n",
      "DOWN\n",
      "DOWN\n",
      "DOWN\n",
      "축하합니다~! 정답입니다! 시도횟수:5번입니다.\n"
     ]
    }
   ],
   "source": [
    "import random\n",
    "num = random.randint(1, 100)\n",
    "print(\"숫자를 맞혀보세요 (1~100)\")\n",
    "user = int(input())\n",
    "try_number = 0\n",
    "while num is not user:\n",
    "  if user > num:\n",
    "    print(\"DOWN\")\n",
    "  else:\n",
    "    print(\"UP\")\n",
    "  user = int(input())\n",
    "  try_number += 1\n",
    "else:\n",
    "  print(f\"축하합니다~! 정답입니다! 시도횟수:{try_number}번입니다.\")"
   ]
  },
  {
   "cell_type": "code",
   "execution_count": 7,
   "metadata": {},
   "outputs": [
    {
     "name": "stdout",
     "output_type": "stream",
     "text": [
      "1부터 100사이 숫자 추측 게임\n",
      "답보다 큼\n",
      "답보다 큼\n",
      "답보다 큼\n",
      "답보다 큼\n",
      "답보다 작음\n",
      "답보다 큼\n",
      "정답! 시도횟수 :  7\n"
     ]
    }
   ],
   "source": [
    "import random\n",
    "t = 1\n",
    "gs = 0\n",
    "ans = random.randint(1, 100)\n",
    "print(\"1부터 100사이 숫자 추측 게임\")\n",
    "gs = int(input(\"숫자 입력 : \"))\n",
    "while gs != ans :\n",
    "    t += 1\n",
    "    if gs < ans :\n",
    "        print(\"답보다 작음\")\n",
    "    elif gs > ans :\n",
    "        print(\"답보다 큼\")\n",
    "    gs = int(input(\"숫자 입력 : \"))\n",
    "if gs == ans :\n",
    "    print(\"정답! 시도횟수 : \", t)"
   ]
  },
  {
   "cell_type": "code",
   "execution_count": null,
   "metadata": {},
   "outputs": [],
   "source": []
  }
 ],
 "metadata": {
  "kernelspec": {
   "display_name": "esg-tf",
   "language": "python",
   "name": "python3"
  },
  "language_info": {
   "codemirror_mode": {
    "name": "ipython",
    "version": 3
   },
   "file_extension": ".py",
   "mimetype": "text/x-python",
   "name": "python",
   "nbconvert_exporter": "python",
   "pygments_lexer": "ipython3",
   "version": "3.10.14"
  }
 },
 "nbformat": 4,
 "nbformat_minor": 2
}
